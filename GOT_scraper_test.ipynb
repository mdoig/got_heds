{
 "cells": [
  {
   "cell_type": "code",
   "execution_count": 1,
   "metadata": {},
   "outputs": [],
   "source": [
    "import requests\n",
    "from bs4 import BeautifulSoup"
   ]
  },
  {
   "cell_type": "code",
   "execution_count": 2,
   "metadata": {},
   "outputs": [],
   "source": [
    "url = 'https://www.avclub.com/tag/game-of-thrones'\n",
    "\n",
    "response = requests.get(url)"
   ]
  },
  {
   "cell_type": "code",
   "execution_count": 3,
   "metadata": {},
   "outputs": [],
   "source": [
    "html = response.text"
   ]
  },
  {
   "cell_type": "code",
   "execution_count": 5,
   "metadata": {},
   "outputs": [],
   "source": [
    "soup = BeautifulSoup(html, 'html.parser')"
   ]
  },
  {
   "cell_type": "code",
   "execution_count": 74,
   "metadata": {},
   "outputs": [],
   "source": [
    "heds = soup.find_all('div', class_='item__content item__content--thumb')"
   ]
  },
  {
   "cell_type": "code",
   "execution_count": 83,
   "metadata": {},
   "outputs": [
    {
     "name": "stdout",
     "output_type": "stream",
     "text": [
      "********************\n",
      "Winterfell throws an emotional house party as Game Of Thrones prepares for battle\n",
      "https://tv.avclub.com/winterfell-throws-an-emotional-house-party-as-game-of-t-1834215824\n",
      "********************\n",
      "Sophie Turner had a downright filthy reaction to Arya's love life and it's pure poetry\n",
      "https://news.avclub.com/sophie-turner-had-a-downright-filthy-reaction-to-aryas-1834220980\n",
      "********************\n",
      "All the TV you should have watched this weekend\n",
      "https://tv.avclub.com/all-the-tv-you-should-have-watched-this-weekend-1834216678\n",
      "********************\n",
      "Podrick’s song on last night's Game Of Thrones is riddled with Westerosi lore\n",
      "https://news.avclub.com/podrick-s-song-on-last-nights-game-of-thrones-is-riddle-1834215430\n",
      "********************\n",
      "It took 69 episodes, but Game Of Thrones' horniness actually meant something last night\n",
      "https://news.avclub.com/it-took-69-episodes-but-game-of-thrones-horniness-actu-1834213090\n",
      "********************\n",
      "Travis Scott, SZA, and The Weeknd are still teasing cool Game Of Thrones stuff\n",
      "https://news.avclub.com/travis-scott-sza-and-the-weeknd-are-still-teasing-coo-1834200498\n",
      "********************\n",
      "\"Game Of (Leslie) Jones\" is how we should all be watching Game Of Thrones\n",
      "https://news.avclub.com/game-of-leslie-jones-is-how-we-should-all-be-watching-1834166668\n",
      "********************\n",
      "Is anyone going to die on Game Of Thrones this week?\n",
      "https://tv.avclub.com/is-anyone-going-to-die-on-game-of-thrones-this-week-1834082855\n",
      "********************\n",
      "Sorry, Greyjoys: Game Of Thrones is still the piracy king\n",
      "https://news.avclub.com/sorry-greyjoys-game-of-thrones-is-still-the-piracy-ki-1834158040\n",
      "********************\n",
      "HBO grits its teeth, responds to Trump's latest use of Game Of Thrones imagery\n",
      "https://news.avclub.com/hbo-grits-its-teeth-responds-to-trumps-latest-use-of-g-1834153764\n",
      "********************\n",
      "Westworld and Game Of Thrones take a trip to Sesame Street, learn how to be better friends\n",
      "https://news.avclub.com/westworld-and-game-of-thrones-take-a-trip-to-sesame-str-1834142652\n",
      "********************\n",
      "What will Lyanna Mormont miss most from Game Of Thrones? Shaming grown men, of course\n",
      "https://news.avclub.com/what-will-lyanna-mormont-miss-most-from-game-of-thrones-1834138739\n",
      "********************\n",
      "Melisandre’s return, “Where the fuck is Ghost?,” and other burning Game Of Thrones questions\n",
      "https://www.avclub.com/melisandre-s-return-where-the-fuck-is-ghost-and-ot-1834097802\n",
      "********************\n",
      "Hodor returns to man the Game Of Thrones emergency hotline\n",
      "https://news.avclub.com/hodor-returns-to-man-the-game-of-thrones-emergency-hotl-1834084004\n",
      "********************\n",
      "Does Game Of Thrones even need Tyrion anymore?\n",
      "https://news.avclub.com/does-game-of-thrones-even-need-tyrion-anymore-1834081469\n",
      "********************\n",
      "Rob McElhenney, Martin Starr were brutally murdered in Game Of Thrones' premiere\n",
      "https://news.avclub.com/rob-mcelhenney-martin-starr-were-brutally-murdered-in-1834077456\n",
      "********************\n",
      "How season 8’s premiere mirrors Game Of Thrones’ very first episode\n",
      "https://tv.avclub.com/how-season-8-s-premiere-mirrors-game-of-thrones-very-f-1834062400\n",
      "********************\n",
      "It'll be a while before Westworld and Curb return to post-Game Of Thrones HBO\n",
      "https://news.avclub.com/itll-be-a-while-before-westworld-and-curb-return-to-pos-1834061547\n",
      "********************\n",
      "Rejoice, for Ed Sheeran's Game Of Thrones character was apparently maimed by dragons\n",
      "https://news.avclub.com/rejoice-for-ed-sheerans-game-of-thrones-character-was-1834058260\n",
      "********************\n",
      "Even the people who make Game Of Thrones' title sequences are scared of spoilers\n",
      "https://news.avclub.com/even-the-people-who-make-game-of-thrones-title-sequence-1834048716\n"
     ]
    }
   ],
   "source": [
    "for x in range(len(heds)):\n",
    "    hed = heds[x].h1.div.text\n",
    "    href = heds[x].h1.a['href']\n",
    "    print('*'*20)\n",
    "    print(hed)\n",
    "    print(href)"
   ]
  }
 ],
 "metadata": {
  "kernelspec": {
   "display_name": "Python 3",
   "language": "python",
   "name": "python3"
  },
  "language_info": {
   "codemirror_mode": {
    "name": "ipython",
    "version": 3
   },
   "file_extension": ".py",
   "mimetype": "text/x-python",
   "name": "python",
   "nbconvert_exporter": "python",
   "pygments_lexer": "ipython3",
   "version": "3.7.0"
  }
 },
 "nbformat": 4,
 "nbformat_minor": 2
}
