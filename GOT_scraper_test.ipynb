{
 "cells": [
  {
   "cell_type": "code",
   "execution_count": 1,
   "metadata": {},
   "outputs": [],
   "source": [
    "import requests\n",
    "from bs4 import BeautifulSoup"
   ]
  },
  {
   "cell_type": "code",
   "execution_count": 2,
   "metadata": {},
   "outputs": [],
   "source": [
    "url = 'https://www.avclub.com/tag/game-of-thrones'\n",
    "\n",
    "response = requests.get(url)"
   ]
  },
  {
   "cell_type": "code",
   "execution_count": 3,
   "metadata": {},
   "outputs": [],
   "source": [
    "html = response.text"
   ]
  },
  {
   "cell_type": "code",
   "execution_count": 4,
   "metadata": {},
   "outputs": [],
   "source": [
    "soup = BeautifulSoup(html, 'html.parser')"
   ]
  },
  {
   "cell_type": "code",
   "execution_count": 5,
   "metadata": {},
   "outputs": [],
   "source": [
    "heds = soup.find_all('div', class_='cw4lnv-5 jbXSRk')"
   ]
  },
  {
   "cell_type": "code",
   "execution_count": 6,
   "metadata": {},
   "outputs": [
    {
     "name": "stdout",
     "output_type": "stream",
     "text": [
      "********************\n",
      "For better or worse, George R.R. Martin says the end of Game Of Thrones isn't influencing his books\n",
      "https://news.avclub.com/for-better-or-worse-george-r-r-martin-says-the-end-of-1837349082\n",
      "********************\n",
      "The script for the Game Of Thrones finale is somehow worse than the episode\n",
      "https://news.avclub.com/the-script-for-the-game-of-thrones-finale-is-somehow-wo-1836889900\n",
      "********************\n",
      "Since the creators won't, Seth Rogen is here to answer your Game of Thrones questions\n",
      "https://news.avclub.com/since-the-creators-wont-seth-rogen-is-here-to-answer-y-1836666355\n",
      "********************\n",
      "It's official: Filming has wrapped on the pilot for the Game Of Thrones prequel\n",
      "https://news.avclub.com/its-official-filming-has-wrapped-on-the-pilot-for-the-1836674762\n",
      "********************\n",
      "HBO didn't help Gwendoline Christie get her Emmy nomination, so she just did it herself\n",
      "https://news.avclub.com/hbo-didnt-help-gwendoline-christie-get-her-emmy-nominat-1836504368\n",
      "********************\n",
      "On second thought, maybe the Game Of Thrones showrunners won't be at Comic-Con this week\n",
      "https://news.avclub.com/on-second-thought-maybe-the-game-of-thrones-showrunner-1836472966\n",
      "********************\n",
      "What did the Emmy nominations get right this year?\n",
      "https://tv.avclub.com/what-did-the-emmy-nominations-get-right-this-year-1836420607\n",
      "********************\n",
      "George R.R. Martin has new Game Of Thrones prequel details, if anyone cares\n",
      "https://news.avclub.com/george-r-r-martin-has-new-game-of-thrones-prequel-deta-1836213306\n",
      "********************\n",
      "Game Of Thrones showrunners now synonymous with \"bad writers\" on Google\n",
      "https://news.avclub.com/game-of-thrones-showrunners-now-synonymous-with-bad-wr-1836151208\n",
      "********************\n",
      "On The Late Show, Naomi Watts shows off her scream queen pipes, stays mum on the Game Of Thrones prequel\n",
      "https://news.avclub.com/on-the-late-show-naomi-watts-shows-off-her-scream-quee-1835757680\n",
      "********************\n",
      "There was a deleted Game of Thrones scene clarifying Cersei's pregnancy situation\n",
      "https://news.avclub.com/there-was-a-deleted-game-of-thrones-scene-clarifying-ce-1835651994\n",
      "********************\n",
      "Game Of Thrones' Lena Headey just says it: \"I wanted a better death\"\n",
      "https://news.avclub.com/game-of-thrones-lena-headey-just-says-it-i-wanted-a-b-1835579784\n",
      "********************\n",
      "Talented, morbid artist wraps up his 74-image catalogue of every Game Of Thrones death\n",
      "https://news.avclub.com/talented-morbid-artist-wraps-up-his-74-image-catalogue-1835515151\n",
      "********************\n",
      "Game Of Thrones' director Miguel Sapochnik talks getting \"visually policed\" by showrunners\n",
      "https://news.avclub.com/game-of-thrones-director-miguel-sapochnik-talks-getting-1835515287\n",
      "********************\n",
      "Endgame and Game Of Thrones were basically telling the same story, but only one nailed the ending\n",
      "https://news.avclub.com/endgame-and-game-of-thrones-were-basically-telling-the-1835375630\n",
      "********************\n",
      "Game Of Thrones fans are helping Emilia Clarke and Kit Harington raise tons of money for charity\n",
      "https://news.avclub.com/game-of-thrones-fans-are-helping-emilia-clarke-and-kit-1835326812\n",
      "********************\n",
      "Sophie Turner and Conan O'Brien play tequila slaps, which is just what it sounds like\n",
      "https://news.avclub.com/sophie-turner-and-conan-obrien-play-tequila-slaps-whic-1835291255\n",
      "********************\n",
      "Add Finn Jones to the list of Game Of Thrones actors who called the ending\n",
      "https://news.avclub.com/add-finn-jones-to-the-list-of-game-of-thrones-actors-wh-1835151247\n",
      "********************\n",
      "We fully support Sophie Turner dressing Joe Jonas up as Sansa\n",
      "https://news.avclub.com/we-fully-support-sophie-turner-dressing-joe-jonas-up-as-1835130595\n",
      "********************\n",
      "An integral element of Game Of Thrones' big twist was on an \"Inside The Episode\" commentary\n",
      "https://news.avclub.com/an-integral-element-of-game-of-thrones-big-twist-was-on-1835073527\n"
     ]
    }
   ],
   "source": [
    "for x in range(len(heds)):\n",
    "    hed = heds[x].h1.text\n",
    "    href = heds[x].a['href']\n",
    "    print('*'*20)\n",
    "    print(hed)\n",
    "    print(href)"
   ]
  }
 ],
 "metadata": {
  "kernelspec": {
   "display_name": "Python 3",
   "language": "python",
   "name": "python3"
  },
  "language_info": {
   "codemirror_mode": {
    "name": "ipython",
    "version": 3
   },
   "file_extension": ".py",
   "mimetype": "text/x-python",
   "name": "python",
   "nbconvert_exporter": "python",
   "pygments_lexer": "ipython3",
   "version": "3.7.0"
  }
 },
 "nbformat": 4,
 "nbformat_minor": 2
}
