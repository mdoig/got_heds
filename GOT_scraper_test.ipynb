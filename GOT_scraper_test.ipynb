{
 "cells": [
  {
   "cell_type": "code",
   "execution_count": 1,
   "metadata": {},
   "outputs": [],
   "source": [
    "import requests\n",
    "from bs4 import BeautifulSoup"
   ]
  },
  {
   "cell_type": "code",
   "execution_count": 2,
   "metadata": {},
   "outputs": [],
   "source": [
    "url = 'https://www.avclub.com/tag/game-of-thrones'\n",
    "\n",
    "response = requests.get(url)"
   ]
  },
  {
   "cell_type": "code",
   "execution_count": 3,
   "metadata": {},
   "outputs": [],
   "source": [
    "html = response.text"
   ]
  },
  {
   "cell_type": "code",
   "execution_count": 4,
   "metadata": {},
   "outputs": [],
   "source": [
    "soup = BeautifulSoup(html, 'html.parser')"
   ]
  },
  {
   "cell_type": "code",
   "execution_count": 5,
   "metadata": {},
   "outputs": [],
   "source": [
    "heds = soup.find_all('div', class_='cw4lnv-5 jbXSRk')"
   ]
  },
  {
   "cell_type": "code",
   "execution_count": 6,
   "metadata": {},
   "outputs": [
    {
     "name": "stdout",
     "output_type": "stream",
     "text": [
      "********************\n",
      "Here's a bunch of plot points some show called Game Of Thrones didn't wrap up\n",
      "https://news.avclub.com/heres-a-bunch-of-plot-points-some-show-called-game-of-t-1842487628\n",
      "********************\n",
      "Game Of Thrones writers return to TV…on Westworld\n",
      "https://news.avclub.com/game-of-thrones-writers-return-to-tv-on-westworld-1842456253\n",
      "********************\n",
      "Emilia Clarke thinks Jon Snow got off way too easy in the Game Of Thrones finale\n",
      "https://news.avclub.com/emilia-clarke-thinks-jon-snow-got-off-way-too-easy-in-t-1842384486\n",
      "********************\n",
      "Westworld isn’t the next Game Of Thrones, but it could be the anti-Game Of Thrones \n",
      "https://tv.avclub.com/westworld-isn-t-the-next-game-of-thrones-but-it-could-1842100048\n",
      "********************\n",
      "Joaquin Phoenix, Parasite, and Renée Zellweger win big at the SAG Awards\n",
      "https://news.avclub.com/joaquin-phoenix-parasite-and-renee-zellweger-win-big-1841098593\n",
      "********************\n",
      "Game Of Thrones prequel House Of The Dragon coming to HBO in 2022\n",
      "https://news.avclub.com/game-of-thrones-prequel-house-of-the-dragon-coming-to-h-1841028839\n",
      "********************\n",
      "In 2019, Reddit mostly existed to dunk on and/or mourn Game Of Thrones\n",
      "https://news.avclub.com/in-2019-reddit-mostly-existed-to-dunk-on-and-or-mourn-1840206278\n",
      "********************\n",
      "Your watch will never end if you win Game Of Thrones: The Complete Collection \n",
      "https://www.avclub.com/your-watch-will-never-end-if-you-win-game-of-thrones-t-1840157760\n",
      "********************\n",
      "An alternate Game Of Thrones ending apparently exists, but save your online petitions for now\n",
      "https://news.avclub.com/an-alternate-game-of-thrones-ending-apparently-exists-1839987417\n",
      "********************\n",
      "George R.R. Martin expresses condolences for the death of Jane Goldman's GoT spinoff\n",
      "https://news.avclub.com/george-r-r-martin-expresses-condolences-for-the-death-1839514663\n",
      "********************\n",
      "Emilia Clarke reveals Lord Varys' final scheme: Leaving that coffee cup out in Game Of Thrones\n",
      "https://news.avclub.com/emilia-clarke-reveals-lord-varys-final-scheme-leaving-1839503853\n",
      "********************\n",
      "Season 2 of Tom Clancy’s Jack Ryan is predictably explosive\n",
      "https://tv.avclub.com/season-2-of-tom-clancy-s-jack-ryan-is-predictably-explo-1839230716\n",
      "********************\n",
      "HBO drops Naomi Watts-led Game Of Thrones prequel\n",
      "https://news.avclub.com/hbo-drops-naomi-watts-led-game-of-thrones-prequel-1839449876\n",
      "********************\n",
      "Based on this Benioff and Weiss panel, it must’ve been dumb luck that Game Of Thrones happened at all\n",
      "https://news.avclub.com/based-on-this-benioff-and-weiss-panel-it-mustve-been-d-1839398581\n",
      "********************\n",
      "George R.R. Martin on having a book adapted for television: \"It can be...traumatic\"\n",
      "https://news.avclub.com/george-r-r-martin-on-having-a-book-adapted-for-televis-1838786078\n",
      "********************\n",
      "Carice van Houten on the Game Of Thrones finale: \"This is what life is. Some dumbo can become president.\"\n",
      "https://news.avclub.com/carice-van-houten-on-the-game-of-thrones-finale-this-1838380715\n",
      "********************\n",
      "Here are the winners from the 71st Primetime Emmy Awards\n",
      "https://news.avclub.com/here-are-the-winners-from-the-71st-primetime-emmy-award-1838341509\n",
      "********************\n",
      "Taylor Swift gets in-depth about her feud with \"two-faced\" Kanye West, and also Game Of Thrones\n",
      "https://news.avclub.com/taylor-swift-gets-in-depth-about-her-feud-with-two-fac-1838237275\n",
      "********************\n",
      "HBO might be preparing to announce a second Game Of Thrones spin-off that's all about dragons\n",
      "https://news.avclub.com/hbo-might-be-preparing-to-announce-a-second-game-of-thr-1838081299\n",
      "********************\n",
      "Here's how Game Of Thrones destroyed King's Landing once and for all\n",
      "https://news.avclub.com/heres-how-game-of-thrones-destroyed-kings-landing-once-1837721138\n"
     ]
    }
   ],
   "source": [
    "for x in range(len(heds)):\n",
    "    hed = heds[x].h2.text\n",
    "    href = heds[x].a['href']\n",
    "    print('*'*20)\n",
    "    print(hed)\n",
    "    print(href)"
   ]
  }
 ],
 "metadata": {
  "kernelspec": {
   "display_name": "Python 3",
   "language": "python",
   "name": "python3"
  },
  "language_info": {
   "codemirror_mode": {
    "name": "ipython",
    "version": 3
   },
   "file_extension": ".py",
   "mimetype": "text/x-python",
   "name": "python",
   "nbconvert_exporter": "python",
   "pygments_lexer": "ipython3",
   "version": "3.7.0"
  }
 },
 "nbformat": 4,
 "nbformat_minor": 2
}
