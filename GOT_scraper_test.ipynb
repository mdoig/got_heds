{
 "cells": [
  {
   "cell_type": "code",
   "execution_count": 1,
   "metadata": {},
   "outputs": [],
   "source": [
    "import requests\n",
    "from bs4 import BeautifulSoup"
   ]
  },
  {
   "cell_type": "code",
   "execution_count": 2,
   "metadata": {},
   "outputs": [],
   "source": [
    "url = 'https://www.avclub.com/tag/game-of-thrones'\n",
    "\n",
    "response = requests.get(url)"
   ]
  },
  {
   "cell_type": "code",
   "execution_count": 3,
   "metadata": {},
   "outputs": [],
   "source": [
    "html = response.text"
   ]
  },
  {
   "cell_type": "code",
   "execution_count": 4,
   "metadata": {},
   "outputs": [],
   "source": [
    "soup = BeautifulSoup(html, 'html.parser')"
   ]
  },
  {
   "cell_type": "code",
   "execution_count": 5,
   "metadata": {},
   "outputs": [],
   "source": [
    "heds = soup.find_all('div', class_='sqekv3-4 lkUfND')"
   ]
  },
  {
   "cell_type": "code",
   "execution_count": 6,
   "metadata": {},
   "outputs": [
    {
     "name": "stdout",
     "output_type": "stream",
     "text": [
      "********************\n",
      "Everyone in Westeros stares into the distance at... something in these latest Thrones photos\n",
      "https://news.avclub.com/everyone-in-westeros-stares-into-the-distance-at-som-1834624754\n",
      "********************\n",
      "Game Of Thrones director blames CGI for Jon’s lackluster goodbye to Ghost\n",
      "https://news.avclub.com/game-of-thrones-director-blames-cgi-for-jon-s-lackluste-1834611192\n",
      "********************\n",
      "Jessica Chastain blasts Game Of Thrones: “Rape is not a tool to make a character stronger”\n",
      "https://news.avclub.com/jessica-chastain-blasts-game-of-thrones-rape-is-not-a-1834581011\n",
      "********************\n",
      "When you play the games of the Game Of Thrones, do they win, or do they die?\n",
      "https://games.avclub.com/when-you-play-the-games-of-the-game-of-thrones-do-they-1834465679\n",
      "********************\n",
      "Game Of Thrones sets the table for its final conflict, but forgets to clear the coffee cup\n",
      "https://tv.avclub.com/game-of-thrones-sets-the-table-for-its-final-conflict-1834566611\n",
      "********************\n",
      "Cersei Lannister as a Billie Eilish song is scary good\n",
      "https://news.avclub.com/cersei-lannister-as-a-billie-eilish-song-is-scary-good-1834563117\n",
      "********************\n",
      "Your guide to who died this week on Game Of Thrones\n",
      "https://www.avclub.com/your-guide-to-who-died-this-week-on-game-of-thrones-1834559890\n",
      "********************\n",
      "Jon Snow, supposed hero of Game Of Thrones, is a bad wolf dad\n",
      "https://news.avclub.com/jon-snow-supposed-hero-of-game-of-thrones-is-a-bad-wo-1834551118\n",
      "********************\n",
      "It’s canon now: Westeros has a Starbucks\n",
      "https://news.avclub.com/its-canon-now-westeros-has-a-starbucks-1834551746\n",
      "********************\n",
      "Relationships fracture as the last war begins in Game Of Thrones (experts)\n",
      "https://tv.avclub.com/game-of-thrones-s08e04-experts-1834540078\n",
      "********************\n",
      "Game Of Thrones is just leaking like a sieve these days\n",
      "https://news.avclub.com/game-of-thrones-is-just-leaking-like-a-sieve-these-days-1834537497\n",
      "********************\n",
      "George R.R. Martin wants you to remember that there are more Game Of Thrones spin-offs in the works\n",
      "https://news.avclub.com/george-r-r-martin-wants-you-to-remember-that-there-are-1834536201\n",
      "********************\n",
      "Syrio Forel has no time for your crappy pro-capitalist memes, thanks\n",
      "https://news.avclub.com/syrio-forel-has-no-time-for-your-crappy-pro-capitalist-1834516971\n",
      "********************\n",
      "Barry, not Game Of Thrones or Endgame, gave us last weekend’s best fight\n",
      "https://news.avclub.com/barry-not-game-of-thrones-or-endgame-gave-us-last-wee-1834506394\n",
      "********************\n",
      "Mailbag Of Thrones tackles prophesies, Melisandre’s track record, and questionable war tactics\n",
      "https://tv.avclub.com/mailbag-of-thrones-tackles-prophesies-melisandre-s-tra-1834434302\n",
      "********************\n",
      "Emilia Clarke's friends aren't watching her train \"iguanas\" or whatever on Game Of Thrones\n",
      "https://news.avclub.com/emilia-clarkes-friends-arent-watching-her-train-iguana-1834473195\n",
      "********************\n",
      "Drake offers up a Billboard Music Awards shout-out to one of the real heroes: Arya Stark\n",
      "https://news.avclub.com/drake-offers-up-a-billboard-music-awards-shout-out-to-o-1834462975\n",
      "********************\n",
      "Let Beyoncé guide you through Arya's journey to last week's Game Of Thrones\n",
      "https://news.avclub.com/let-beyonce-guide-you-down-aryas-long-road-to-last-week-1834443925\n",
      "********************\n",
      "The Night King lives...on Cameo\n",
      "https://news.avclub.com/the-night-king-lives-on-cameo-1834429619\n",
      "********************\n",
      "Does Endgame mark a decisive win for “content” over “cinema”?\n",
      "https://news.avclub.com/does-endgame-mark-a-decisive-win-for-content-over-ci-1834417877\n"
     ]
    }
   ],
   "source": [
    "for x in range(len(heds)):\n",
    "    hed = heds[x].h1.text\n",
    "    href = heds[x].a['href']\n",
    "    print('*'*20)\n",
    "    print(hed)\n",
    "    print(href)"
   ]
  }
 ],
 "metadata": {
  "kernelspec": {
   "display_name": "Python 3",
   "language": "python",
   "name": "python3"
  },
  "language_info": {
   "codemirror_mode": {
    "name": "ipython",
    "version": 3
   },
   "file_extension": ".py",
   "mimetype": "text/x-python",
   "name": "python",
   "nbconvert_exporter": "python",
   "pygments_lexer": "ipython3",
   "version": "3.7.0"
  }
 },
 "nbformat": 4,
 "nbformat_minor": 2
}
